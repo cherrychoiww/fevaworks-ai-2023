{
 "cells": [
  {
   "cell_type": "markdown",
   "id": "e1442a3b",
   "metadata": {},
   "source": [
    "## Bing Search with Langchain\n",
    "Set environment variables and run the cells below."
   ]
  },
  {
   "cell_type": "code",
   "execution_count": null,
   "id": "5a55506d",
   "metadata": {},
   "outputs": [],
   "source": [
    "!pip install openai\n",
    "!pip install langchain"
   ]
  },
  {
   "cell_type": "code",
   "execution_count": null,
   "id": "b233f3b2",
   "metadata": {},
   "outputs": [],
   "source": [
    "%env OPENAI_API_TYPE=azure\n",
    "%env OPENAI_API_VERSION=2022-12-01\n",
    "%env OPENAI_API_BASE=\n",
    "%env OPENAI_API_KEY=\n",
    "%env BING_SUBSCRIPTION_KEY=\n",
    "%env BING_SEARCH_URL=https://api.bing.microsoft.com/v7.0/search/"
   ]
  },
  {
   "cell_type": "code",
   "execution_count": null,
   "id": "463da6a6",
   "metadata": {},
   "outputs": [],
   "source": [
    "from langchain.agents import load_tools\n",
    "from langchain.agents import initialize_agent\n",
    "from langchain.llms import AzureOpenAI\n",
    "\n",
    "# First, let's load the language model we're going to use to control the agent.\n",
    "azllm=AzureOpenAI(deployment_name=\"test-text-davinci\", model_name=\"text-davinci-003\", temperature=0)\n",
    "\n",
    "# Next, let's load some tools to use. Note that the `llm-math` tool uses an LLM, so we need to pass that in.\n",
    "tools = load_tools([\"bing-search\", \"llm-math\"], llm=azllm)\n",
    "\n",
    "# Finally, let's initialize an agent with the tools, the language model, and the type of agent we want to use.\n",
    "agent = initialize_agent(tools, azllm, agent=\"zero-shot-react-description\", verbose=True)"
   ]
  },
  {
   "cell_type": "code",
   "execution_count": null,
   "id": "f0b7c13e",
   "metadata": {},
   "outputs": [],
   "source": [
    "agent.run(\"Who is Leo DiCaprio's girlfriend? What is her current age raised to the 0.43 power?\")"
   ]
  },
  {
   "cell_type": "code",
   "execution_count": null,
   "id": "a294a975",
   "metadata": {},
   "outputs": [],
   "source": []
  }
 ],
 "metadata": {
  "kernelspec": {
   "display_name": "Python 3 (ipykernel)",
   "language": "python",
   "name": "python3"
  },
  "language_info": {
   "codemirror_mode": {
    "name": "ipython",
    "version": 3
   },
   "file_extension": ".py",
   "mimetype": "text/x-python",
   "name": "python",
   "nbconvert_exporter": "python",
   "pygments_lexer": "ipython3",
   "version": "3.9.13"
  }
 },
 "nbformat": 4,
 "nbformat_minor": 5
}
