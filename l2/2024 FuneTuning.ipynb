{
 "cells": [
  {
   "cell_type": "markdown",
   "id": "6510a7f3",
   "metadata": {},
   "source": [
    "# Fine-tuning"
   ]
  },
  {
   "cell_type": "markdown",
   "id": "fa3819d7",
   "metadata": {},
   "source": [
    "## Loading the Data\n",
    "In this step, we will load the data from the CSV file into a dictionary object. The csv.DictReader function reads the CSV file row by row and converts each row into a dictionary object.\n",
    "\n",
    "To load the data, we will create a function load_data that takes the CSV file name as an input and returns a list of dictionaries containing the data."
   ]
  },
  {
   "cell_type": "code",
   "execution_count": 1,
   "id": "3111cb61-506e-479d-83d6-88b3a6c79bb1",
   "metadata": {},
   "outputs": [
    {
     "name": "stdout",
     "output_type": "stream",
     "text": [
      "Collecting pandas\n",
      "  Downloading pandas-2.2.2-cp311-cp311-manylinux_2_17_x86_64.manylinux2014_x86_64.whl.metadata (19 kB)\n",
      "Collecting numpy>=1.23.2 (from pandas)\n",
      "  Downloading numpy-1.26.4-cp311-cp311-manylinux_2_17_x86_64.manylinux2014_x86_64.whl.metadata (61 kB)\n",
      "\u001b[2K     \u001b[90m━━━━━━━━━━━━━━━━━━━━━━━━━━━━━━━━━━━━━━━━\u001b[0m \u001b[32m61.0/61.0 kB\u001b[0m \u001b[31m1.0 MB/s\u001b[0m eta \u001b[36m0:00:00\u001b[0ma \u001b[36m0:00:01\u001b[0m\n",
      "\u001b[?25hRequirement already satisfied: python-dateutil>=2.8.2 in /opt/conda/lib/python3.11/site-packages (from pandas) (2.8.2)\n",
      "Requirement already satisfied: pytz>=2020.1 in /opt/conda/lib/python3.11/site-packages (from pandas) (2023.3.post1)\n",
      "Collecting tzdata>=2022.7 (from pandas)\n",
      "  Downloading tzdata-2024.1-py2.py3-none-any.whl.metadata (1.4 kB)\n",
      "Requirement already satisfied: six>=1.5 in /opt/conda/lib/python3.11/site-packages (from python-dateutil>=2.8.2->pandas) (1.16.0)\n",
      "Downloading pandas-2.2.2-cp311-cp311-manylinux_2_17_x86_64.manylinux2014_x86_64.whl (13.0 MB)\n",
      "\u001b[2K   \u001b[90m━━━━━━━━━━━━━━━━━━━━━━━━━━━━━━━━━━━━━━━━\u001b[0m \u001b[32m13.0/13.0 MB\u001b[0m \u001b[31m56.5 MB/s\u001b[0m eta \u001b[36m0:00:00\u001b[0m00:01\u001b[0m00:01\u001b[0m\n",
      "\u001b[?25hDownloading numpy-1.26.4-cp311-cp311-manylinux_2_17_x86_64.manylinux2014_x86_64.whl (18.3 MB)\n",
      "\u001b[2K   \u001b[90m━━━━━━━━━━━━━━━━━━━━━━━━━━━━━━━━━━━━━━━━\u001b[0m \u001b[32m18.3/18.3 MB\u001b[0m \u001b[31m50.4 MB/s\u001b[0m eta \u001b[36m0:00:00\u001b[0m00:01\u001b[0m00:01\u001b[0m\n",
      "\u001b[?25hDownloading tzdata-2024.1-py2.py3-none-any.whl (345 kB)\n",
      "\u001b[2K   \u001b[90m━━━━━━━━━━━━━━━━━━━━━━━━━━━━━━━━━━━━━━━━\u001b[0m \u001b[32m345.4/345.4 kB\u001b[0m \u001b[31m11.2 MB/s\u001b[0m eta \u001b[36m0:00:00\u001b[0m\n",
      "\u001b[?25hInstalling collected packages: tzdata, numpy, pandas\n",
      "Successfully installed numpy-1.26.4 pandas-2.2.2 tzdata-2024.1\n",
      "Collecting Pyarrow\n",
      "  Downloading pyarrow-16.0.0-cp311-cp311-manylinux_2_28_x86_64.whl.metadata (3.0 kB)\n",
      "Requirement already satisfied: numpy>=1.16.6 in /opt/conda/lib/python3.11/site-packages (from Pyarrow) (1.26.4)\n",
      "Downloading pyarrow-16.0.0-cp311-cp311-manylinux_2_28_x86_64.whl (40.8 MB)\n",
      "\u001b[2K   \u001b[90m━━━━━━━━━━━━━━━━━━━━━━━━━━━━━━━━━━━━━━━━\u001b[0m \u001b[32m40.8/40.8 MB\u001b[0m \u001b[31m27.2 MB/s\u001b[0m eta \u001b[36m0:00:00\u001b[0m00:01\u001b[0m:00:01\u001b[0m\n",
      "\u001b[?25hInstalling collected packages: Pyarrow\n",
      "Successfully installed Pyarrow-16.0.0\n"
     ]
    }
   ],
   "source": [
    "!pip install pandas\n",
    "!pip install Pyarrow"
   ]
  },
  {
   "cell_type": "code",
   "execution_count": 2,
   "id": "7a3c4251",
   "metadata": {},
   "outputs": [],
   "source": [
    "filename=\"job_skills.csv\""
   ]
  },
  {
   "cell_type": "code",
   "execution_count": 3,
   "id": "73f842bf",
   "metadata": {},
   "outputs": [],
   "source": [
    "import csv\n",
    "\n",
    "def load_data(filename):\n",
    "    with open(filename, 'r') as file:\n",
    "        reader = csv.DictReader(file)\n",
    "        data = [row for row in reader]\n",
    "    return data\n"
   ]
  },
  {
   "cell_type": "code",
   "execution_count": 4,
   "id": "bdc5c6b1",
   "metadata": {},
   "outputs": [
    {
     "data": {
      "text/html": [
       "<div>\n",
       "<style scoped>\n",
       "    .dataframe tbody tr th:only-of-type {\n",
       "        vertical-align: middle;\n",
       "    }\n",
       "\n",
       "    .dataframe tbody tr th {\n",
       "        vertical-align: top;\n",
       "    }\n",
       "\n",
       "    .dataframe thead th {\n",
       "        text-align: right;\n",
       "    }\n",
       "</style>\n",
       "<table border=\"1\" class=\"dataframe\">\n",
       "  <thead>\n",
       "    <tr style=\"text-align: right;\">\n",
       "      <th></th>\n",
       "      <th>Company</th>\n",
       "      <th>Title</th>\n",
       "      <th>Category</th>\n",
       "      <th>Location</th>\n",
       "      <th>Responsibilities</th>\n",
       "      <th>Minimum Qualifications</th>\n",
       "      <th>Preferred Qualifications</th>\n",
       "    </tr>\n",
       "  </thead>\n",
       "  <tbody>\n",
       "    <tr>\n",
       "      <th>0</th>\n",
       "      <td>Google</td>\n",
       "      <td>Google Cloud Program Manager</td>\n",
       "      <td>Program Management</td>\n",
       "      <td>Singapore</td>\n",
       "      <td>Shape, shepherd, ship, and show technical prog...</td>\n",
       "      <td>BA/BS degree or equivalent practical experienc...</td>\n",
       "      <td>Experience in the business technology market a...</td>\n",
       "    </tr>\n",
       "    <tr>\n",
       "      <th>1</th>\n",
       "      <td>Google</td>\n",
       "      <td>Supplier Development Engineer (SDE), Cable/Con...</td>\n",
       "      <td>Manufacturing &amp; Supply Chain</td>\n",
       "      <td>Shanghai, China</td>\n",
       "      <td>Drive cross-functional activities in the suppl...</td>\n",
       "      <td>BS degree in an Engineering discipline or equi...</td>\n",
       "      <td>BSEE, BSME or BSIE degree.\\nExperience of usin...</td>\n",
       "    </tr>\n",
       "    <tr>\n",
       "      <th>2</th>\n",
       "      <td>Google</td>\n",
       "      <td>Data Analyst, Product and Tools Operations, Go...</td>\n",
       "      <td>Technical Solutions</td>\n",
       "      <td>New York, NY, United States</td>\n",
       "      <td>Collect and analyze data to draw insight and i...</td>\n",
       "      <td>Bachelor’s degree in Business, Economics, Stat...</td>\n",
       "      <td>Experience partnering or consulting cross-func...</td>\n",
       "    </tr>\n",
       "    <tr>\n",
       "      <th>3</th>\n",
       "      <td>Google</td>\n",
       "      <td>Developer Advocate, Partner Engineering</td>\n",
       "      <td>Developer Relations</td>\n",
       "      <td>Mountain View, CA, United States</td>\n",
       "      <td>Work one-on-one with the top Android, iOS, and...</td>\n",
       "      <td>BA/BS degree in Computer Science or equivalent...</td>\n",
       "      <td>Experience as a software developer, architect,...</td>\n",
       "    </tr>\n",
       "    <tr>\n",
       "      <th>4</th>\n",
       "      <td>Google</td>\n",
       "      <td>Program Manager, Audio Visual (AV) Deployments</td>\n",
       "      <td>Program Management</td>\n",
       "      <td>Sunnyvale, CA, United States</td>\n",
       "      <td>Plan requirements with internal customers.\\nPr...</td>\n",
       "      <td>BA/BS degree or equivalent practical experienc...</td>\n",
       "      <td>CTS Certification.\\nExperience in the construc...</td>\n",
       "    </tr>\n",
       "  </tbody>\n",
       "</table>\n",
       "</div>"
      ],
      "text/plain": [
       "  Company                                              Title  \\\n",
       "0  Google                       Google Cloud Program Manager   \n",
       "1  Google  Supplier Development Engineer (SDE), Cable/Con...   \n",
       "2  Google  Data Analyst, Product and Tools Operations, Go...   \n",
       "3  Google            Developer Advocate, Partner Engineering   \n",
       "4  Google     Program Manager, Audio Visual (AV) Deployments   \n",
       "\n",
       "                       Category                          Location  \\\n",
       "0            Program Management                         Singapore   \n",
       "1  Manufacturing & Supply Chain                   Shanghai, China   \n",
       "2           Technical Solutions       New York, NY, United States   \n",
       "3           Developer Relations  Mountain View, CA, United States   \n",
       "4            Program Management      Sunnyvale, CA, United States   \n",
       "\n",
       "                                    Responsibilities  \\\n",
       "0  Shape, shepherd, ship, and show technical prog...   \n",
       "1  Drive cross-functional activities in the suppl...   \n",
       "2  Collect and analyze data to draw insight and i...   \n",
       "3  Work one-on-one with the top Android, iOS, and...   \n",
       "4  Plan requirements with internal customers.\\nPr...   \n",
       "\n",
       "                              Minimum Qualifications  \\\n",
       "0  BA/BS degree or equivalent practical experienc...   \n",
       "1  BS degree in an Engineering discipline or equi...   \n",
       "2  Bachelor’s degree in Business, Economics, Stat...   \n",
       "3  BA/BS degree in Computer Science or equivalent...   \n",
       "4  BA/BS degree or equivalent practical experienc...   \n",
       "\n",
       "                            Preferred Qualifications  \n",
       "0  Experience in the business technology market a...  \n",
       "1  BSEE, BSME or BSIE degree.\\nExperience of usin...  \n",
       "2  Experience partnering or consulting cross-func...  \n",
       "3  Experience as a software developer, architect,...  \n",
       "4  CTS Certification.\\nExperience in the construc...  "
      ]
     },
     "execution_count": 4,
     "metadata": {},
     "output_type": "execute_result"
    }
   ],
   "source": [
    "import pandas as pd\n",
    "df = pd.read_csv('job_skills.csv')\n",
    "df.head(5)"
   ]
  },
  {
   "cell_type": "markdown",
   "id": "802833e0",
   "metadata": {},
   "source": [
    "## Preparing the Data for OpenAI Finetuning\n",
    "In this step, we will prepare the data for OpenAI finetuning. We will use the data loaded from the CSV file and create a new JSONL file that will be used for finetuning."
   ]
  },
  {
   "cell_type": "code",
   "execution_count": 5,
   "id": "4b700f5b",
   "metadata": {},
   "outputs": [],
   "source": [
    "import json\n",
    "\n",
    "# Open the input CSV file\n",
    "with open('job_skills.csv', 'r',encoding='UTF-8') as csv_file:\n",
    "    csv_reader = csv.DictReader(csv_file)\n",
    "\n",
    "    # Open the output JSONL file\n",
    "    with open('\\output.jsonl', 'w',encoding='UTF-8') as jsonl_file:\n",
    "        for row in csv_reader:\n",
    "            # Extract the relevant fields from the CSV row\n",
    "            location = row['Location']\n",
    "            responsibilities = row['Responsibilities']\n",
    "            minimum_qualifications = row['Minimum Qualifications']\n",
    "            title = row['Title']\n",
    "            category = row['Category']\n",
    "\n",
    "            # Construct the JSONL object\n",
    "            jsonl_obj = {\n",
    "                'prompt': f'Location: {location}\\nResponsibilities: {responsibilities}\\n Qualifications: {minimum_qualifications}',\n",
    "                'completion': f'{title}\\n{category}'\n",
    "            }\n",
    "\n",
    "            # Write the JSONL object to the output file\n",
    "            jsonl_file.write(json.dumps(jsonl_obj) + '\\n')\n"
   ]
  },
  {
   "cell_type": "code",
   "execution_count": 7,
   "id": "af221e01",
   "metadata": {},
   "outputs": [
    {
     "name": "stdout",
     "output_type": "stream",
     "text": [
      "{\"prompt\": \"Location: Singapore\\nResponsibilities: Shape, shepherd, ship, and show technical programs designed to support the work of Cloud Customer Engineers and Solutions Architects.\\nMeasure and report on key metrics tied to those programs to identify any need to change course, cancel, or scale the programs from a regional to global platform.\\nCommunicate status and identify any obstacles and paths for resolution to stakeholders, including those in senior roles, in a transparent, regular, professional and timely manner.\\nEstablish expectations and rationale on deliverables for stakeholders and program contributors.\\nProvide program performance feedback to teams in Product, Engineering, Sales, and Marketing (among others) to enable efficient cross-team operations.\\n Qualifications: BA/BS degree or equivalent practical experience.\\n3 years of experience in program and/or project management in cloud computing, enterprise software and/or marketing technologies.\", \"completion\": \"Google Cloud Program Manager\\nProgram Management\"}\n",
      "\n",
      "{\"prompt\": \"Location: Shanghai, China\\nResponsibilities: Drive cross-functional activities in the supply chain for overall Technical Operational readiness in all NPI phases leading into mass production.\\nCollaborate with suppliers and Engineering teams in assessing process technologies based on project requirements, and propose and develop the manufacturing blueprint including process flow, equipment/fixture designs, implementation schedules and validation plans for engineering builds and mass production.\\nDrive project technical and operational issues with material, process, fixtures, equipment, etc. during the NPI phase to enable delivery of a mature product and manufacturing process into mass production. Support/drive continuous improvement efforts in the supply chain.\\nLead suppliers by providing technical direction to establish and validate (utilizing statistical tools) process capability during the NPI phase for consistently delivering a quality product in mass production.\\nUtilize DOE\\u2019s, FMEA and other Industry standard tools to proactively identify and address risks and optimize process parameters.\\n Qualifications: BS degree in an Engineering discipline or equivalent practical experience.\\n7 years of experience in Cable/Connector Design or Manufacturing in an NPI role.\\nExperience working with Interconnect Engineering and Product Design (PD)/Mechanical Engineer in developing, manufacturing and testing.\\nAbility to speak and write in English and Mandarin fluently and idiomatically.\", \"completion\": \"Supplier Development Engineer (SDE), Cable/Connector\\nManufacturing & Supply Chain\"}\n",
      "\n",
      "{\"prompt\": \"Location: New York, NY, United States\\nResponsibilities: Collect and analyze data to draw insight and identify strategic solutions.\\nBuild consensus by facilitating broad collaboration with clear communication and documentation.\\nWork with cross-functional stakeholders to gather requirements, manage implementation, and drive delivery of projects.\\n Qualifications: Bachelor\\u2019s degree in Business, Economics, Statistics, Operations Research or related analytical field, or equivalent practical experience.\\n2 years of work experience in business analysis.\\n1 year of experience with statistical modeling, forecasting or machine learning. Experience with R, SAS or Python.\\n1 year of experience developing and manipulating large datasets.\", \"completion\": \"Data Analyst, Product and Tools Operations, Google Technical Services\\nTechnical Solutions\"}\n",
      "\n",
      "{\"prompt\": \"Location: Mountain View, CA, United States\\nResponsibilities: Work one-on-one with the top Android, iOS, and web engineers to build exciting new product/API integrations that drive adoption of Google\\u2019s developer platforms.\\nConceive new features and ideas that can change how users interact with apps and Google, and help developers build them.\\nConduct regular, engineering-focused meetings with developers to help them design new systems, fix bugs, improve UX, and solve complex code issues.\\nWork on the source code of Google's products with other engineers to identify, reproduce, and/or fix bugs that are affecting developers.\\n Qualifications: BA/BS degree in Computer Science or equivalent practical experience.\\nExperience working directly with partners.\\nProgramming experience in one or more of the following languages/platforms: Android, Java, Kotlin, iOS, Javascript.\", \"completion\": \"Developer Advocate, Partner Engineering\\nDeveloper Relations\"}\n",
      "\n",
      "{\"prompt\": \"Location: Sunnyvale, CA, United States\\nResponsibilities: Plan requirements with internal customers.\\nProvide portfolio reports and forecasts to Regional Service Delivery Manager. Manage vendor PM services to usher projects through the entire lifecycle.\\nPlan finances and tracking across a portfolio of projects.\\nEnsure that any changes in scope, schedule or cost are managed in accordance with the agreed change order procedures. Interface with cross functional stakeholders to understand and communicate program strategy and priorities.\\nEnsure project closure processes are completed - including handover to support. Help to validate new and improve existing products by partnering with AV Eng teams. Set operational goals and lead ongoing process and program improvement initiatives.\\n Qualifications: BA/BS degree or equivalent practical experience.\\n4 years of experience managing large scale Global AV Deployments.\\nExperience managing vendors to deliver defined projects.\\nExperience in Audio/Visual and Video Conferencing design, system integration and resolution.\", \"completion\": \"Program Manager, Audio Visual (AV) Deployments\\nProgram Management\"}\n",
      "\n"
     ]
    }
   ],
   "source": [
    "with open('output.jsonl', 'r') as f:\n",
    "    for i in range(5):\n",
    "        line = f.readline()\n",
    "        print(line)"
   ]
  },
  {
   "cell_type": "markdown",
   "id": "e669e4c7",
   "metadata": {},
   "source": [
    "## Preparing the Data Using the OpenAI Tools Package\n",
    "In this step, we will use the OpenAI tools package to prepare the data for finetuning. The prepare_data function in the tools.fine_tunes module can be used for this purpose.\n",
    "\n",
    "The prepare_data function takes the following arguments:\n",
    "\n",
    "file: The name of the input file in JSONL format.\n",
    "-f: The name of the output file in the GPT-3 training format.\n",
    "To prepare the data using the OpenAI tools package, we will execute the following code in the notebook:"
   ]
  },
  {
   "cell_type": "code",
   "execution_count": 8,
   "id": "e077a34d",
   "metadata": {},
   "outputs": [
    {
     "name": "stdout",
     "output_type": "stream",
     "text": [
      "Collecting openai\n",
      "  Downloading openai-1.25.0-py3-none-any.whl.metadata (21 kB)\n",
      "Requirement already satisfied: anyio<5,>=3.5.0 in /opt/conda/lib/python3.11/site-packages (from openai) (4.0.0)\n",
      "Collecting distro<2,>=1.7.0 (from openai)\n",
      "  Downloading distro-1.9.0-py3-none-any.whl.metadata (6.8 kB)\n",
      "Collecting httpx<1,>=0.23.0 (from openai)\n",
      "  Downloading httpx-0.27.0-py3-none-any.whl.metadata (7.2 kB)\n",
      "Collecting pydantic<3,>=1.9.0 (from openai)\n",
      "  Downloading pydantic-2.7.1-py3-none-any.whl.metadata (107 kB)\n",
      "\u001b[2K     \u001b[90m━━━━━━━━━━━━━━━━━━━━━━━━━━━━━━━━━━━━━━━\u001b[0m \u001b[32m107.3/107.3 kB\u001b[0m \u001b[31m1.7 MB/s\u001b[0m eta \u001b[36m0:00:00\u001b[0ma \u001b[36m0:00:01\u001b[0m\n",
      "\u001b[?25hRequirement already satisfied: sniffio in /opt/conda/lib/python3.11/site-packages (from openai) (1.3.0)\n",
      "Requirement already satisfied: tqdm>4 in /opt/conda/lib/python3.11/site-packages (from openai) (4.66.1)\n",
      "Requirement already satisfied: typing-extensions<5,>=4.7 in /opt/conda/lib/python3.11/site-packages (from openai) (4.8.0)\n",
      "Requirement already satisfied: idna>=2.8 in /opt/conda/lib/python3.11/site-packages (from anyio<5,>=3.5.0->openai) (3.4)\n",
      "Requirement already satisfied: certifi in /opt/conda/lib/python3.11/site-packages (from httpx<1,>=0.23.0->openai) (2023.7.22)\n",
      "Collecting httpcore==1.* (from httpx<1,>=0.23.0->openai)\n",
      "  Downloading httpcore-1.0.5-py3-none-any.whl.metadata (20 kB)\n",
      "Collecting h11<0.15,>=0.13 (from httpcore==1.*->httpx<1,>=0.23.0->openai)\n",
      "  Downloading h11-0.14.0-py3-none-any.whl.metadata (8.2 kB)\n",
      "Collecting annotated-types>=0.4.0 (from pydantic<3,>=1.9.0->openai)\n",
      "  Downloading annotated_types-0.6.0-py3-none-any.whl.metadata (12 kB)\n",
      "Collecting pydantic-core==2.18.2 (from pydantic<3,>=1.9.0->openai)\n",
      "  Downloading pydantic_core-2.18.2-cp311-cp311-manylinux_2_17_x86_64.manylinux2014_x86_64.whl.metadata (6.5 kB)\n",
      "Downloading openai-1.25.0-py3-none-any.whl (312 kB)\n",
      "\u001b[2K   \u001b[90m━━━━━━━━━━━━━━━━━━━━━━━━━━━━━━━━━━━━━━━━\u001b[0m \u001b[32m312.9/312.9 kB\u001b[0m \u001b[31m5.9 MB/s\u001b[0m eta \u001b[36m0:00:00\u001b[0m:00:01\u001b[0m\n",
      "\u001b[?25hDownloading distro-1.9.0-py3-none-any.whl (20 kB)\n",
      "Downloading httpx-0.27.0-py3-none-any.whl (75 kB)\n",
      "\u001b[2K   \u001b[90m━━━━━━━━━━━━━━━━━━━━━━━━━━━━━━━━━━━━━━━━\u001b[0m \u001b[32m75.6/75.6 kB\u001b[0m \u001b[31m2.2 MB/s\u001b[0m eta \u001b[36m0:00:00\u001b[0m\n",
      "\u001b[?25hDownloading httpcore-1.0.5-py3-none-any.whl (77 kB)\n",
      "\u001b[2K   \u001b[90m━━━━━━━━━━━━━━━━━━━━━━━━━━━━━━━━━━━━━━━━\u001b[0m \u001b[32m77.9/77.9 kB\u001b[0m \u001b[31m2.4 MB/s\u001b[0m eta \u001b[36m0:00:00\u001b[0m\n",
      "\u001b[?25hDownloading pydantic-2.7.1-py3-none-any.whl (409 kB)\n",
      "\u001b[2K   \u001b[90m━━━━━━━━━━━━━━━━━━━━━━━━━━━━━━━━━━━━━━━━\u001b[0m \u001b[32m409.3/409.3 kB\u001b[0m \u001b[31m7.8 MB/s\u001b[0m eta \u001b[36m0:00:00\u001b[0m:00:01\u001b[0m\n",
      "\u001b[?25hDownloading pydantic_core-2.18.2-cp311-cp311-manylinux_2_17_x86_64.manylinux2014_x86_64.whl (2.1 MB)\n",
      "\u001b[2K   \u001b[90m━━━━━━━━━━━━━━━━━━━━━━━━━━━━━━━━━━━━━━━━\u001b[0m \u001b[32m2.1/2.1 MB\u001b[0m \u001b[31m34.7 MB/s\u001b[0m eta \u001b[36m0:00:00\u001b[0m:00:01\u001b[0m\n",
      "\u001b[?25hDownloading annotated_types-0.6.0-py3-none-any.whl (12 kB)\n",
      "Downloading h11-0.14.0-py3-none-any.whl (58 kB)\n",
      "\u001b[2K   \u001b[90m━━━━━━━━━━━━━━━━━━━━━━━━━━━━━━━━━━━━━━━━\u001b[0m \u001b[32m58.3/58.3 kB\u001b[0m \u001b[31m1.3 MB/s\u001b[0m eta \u001b[36m0:00:00\u001b[0meta \u001b[36m0:00:01\u001b[0m\n",
      "\u001b[?25hInstalling collected packages: pydantic-core, h11, distro, annotated-types, pydantic, httpcore, httpx, openai\n",
      "Successfully installed annotated-types-0.6.0 distro-1.9.0 h11-0.14.0 httpcore-1.0.5 httpx-0.27.0 openai-1.25.0 pydantic-2.7.1 pydantic-core-2.18.2\n"
     ]
    }
   ],
   "source": [
    "!pip install openai"
   ]
  },
  {
   "cell_type": "code",
   "execution_count": 9,
   "id": "6722dbb0",
   "metadata": {},
   "outputs": [
    {
     "name": "stdout",
     "output_type": "stream",
     "text": [
      "Analyzing...\n",
      "\n",
      "- Your file contains 1250 prompt-completion pairs\n",
      "- There are 124 duplicated prompt-completion sets. These are rows: [304, 305, 308, 316, 318, 323, 333, 355, 367, 374, 379, 398, 412, 417, 443, 461, 465, 466, 487, 489, 508, 510, 511, 519, 567, 591, 631, 697, 708, 711, 741, 771, 831, 859, 870, 872, 874, 876, 878, 879, 880, 881, 890, 895, 901, 902, 908, 912, 921, 931, 934, 936, 938, 940, 941, 948, 950, 951, 953, 955, 957, 959, 960, 963, 967, 970, 972, 977, 982, 983, 990, 991, 995, 1002, 1006, 1012, 1017, 1023, 1027, 1028, 1035, 1041, 1042, 1059, 1060, 1078, 1080, 1084, 1089, 1096, 1106, 1110, 1111, 1112, 1114, 1116, 1124, 1125, 1131, 1135, 1136, 1142, 1143, 1147, 1153, 1154, 1165, 1166, 1168, 1173, 1184, 1187, 1191, 1194, 1198, 1204, 1205, 1213, 1217, 1219, 1221, 1227, 1238, 1240]\n",
      "- Your data does not contain a common separator at the end of your prompts. Having a separator string appended to the end of the prompt makes it clearer to the fine-tuned model where the completion should begin. See https://platform.openai.com/docs/guides/fine-tuning/preparing-your-dataset for more detail and examples. If you intend to do open-ended generation, then you should leave the prompts empty\n",
      "- All prompts start with prefix `Location: `\n",
      "- Your data does not contain a common ending at the end of your completions. Having a common ending string appended to the end of the completion makes it clearer to the fine-tuned model where the completion should end. See https://platform.openai.com/docs/guides/fine-tuning/preparing-your-dataset for more detail and examples.\n",
      "- The completion should start with a whitespace character (` `). This tends to produce better results due to the tokenization we use. See https://platform.openai.com/docs/guides/fine-tuning/preparing-your-dataset for more details\n",
      "\n",
      "Based on the analysis we will perform the following actions:\n",
      "- [Recommended] Remove 124 duplicate rows [Y/n]: - [Recommended] Add a suffix separator `\\n\\n###\\n\\n` to all prompts [Y/n]: /opt/conda/lib/python3.11/site-packages/openai/lib/_validators.py:227: SettingWithCopyWarning: \n",
      "A value is trying to be set on a copy of a slice from a DataFrame.\n",
      "Try using .loc[row_indexer,col_indexer] = value instead\n",
      "\n",
      "See the caveats in the documentation: https://pandas.pydata.org/pandas-docs/stable/user_guide/indexing.html#returning-a-view-versus-a-copy\n",
      "  x[\"prompt\"] += suffix\n",
      "- [Recommended] Add a suffix ending ` END` to all completions [Y/n]: /opt/conda/lib/python3.11/site-packages/openai/lib/_validators.py:375: SettingWithCopyWarning: \n",
      "A value is trying to be set on a copy of a slice from a DataFrame.\n",
      "Try using .loc[row_indexer,col_indexer] = value instead\n",
      "\n",
      "See the caveats in the documentation: https://pandas.pydata.org/pandas-docs/stable/user_guide/indexing.html#returning-a-view-versus-a-copy\n",
      "  x[\"completion\"] += suffix\n",
      "- [Recommended] Add a whitespace character to the beginning of the completion [Y/n]: /opt/conda/lib/python3.11/site-packages/openai/lib/_validators.py:410: SettingWithCopyWarning: \n",
      "A value is trying to be set on a copy of a slice from a DataFrame.\n",
      "Try using .loc[row_indexer,col_indexer] = value instead\n",
      "\n",
      "See the caveats in the documentation: https://pandas.pydata.org/pandas-docs/stable/user_guide/indexing.html#returning-a-view-versus-a-copy\n",
      "  x[\"completion\"] = x[\"completion\"].apply(lambda s: (\"\" if s.startswith(\" \") else \" \") + s)\n",
      "\n",
      "\n",
      "Your data will be written to a new JSONL file. Proceed [Y/n]: \n",
      "Wrote modified file to `output_prepared (1).jsonl`\n",
      "Feel free to take a look!\n",
      "\n",
      "Now use that file when fine-tuning:\n",
      "> openai api fine_tunes.create -t \"output_prepared (1).jsonl\"\n",
      "\n",
      "After you’ve fine-tuned a model, remember that your prompt has to end with the indicator string `\\n\\n###\\n\\n` for the model to start generating completions, rather than continuing with the prompt. Make sure to include `stop=[\" END\"]` so that the generated texts ends at the expected place.\n",
      "Once your model starts training, it'll approximately take 53.91 minutes to train a `curie` model, and less for `ada` and `babbage`. Queue will approximately take half an hour per job ahead of you.\n",
      "yes: standard output: Broken pipe\n"
     ]
    }
   ],
   "source": [
    "!yes | openai tools fine_tunes.prepare_data -f output.jsonl"
   ]
  },
  {
   "cell_type": "code",
   "execution_count": 10,
   "id": "7f488f57",
   "metadata": {},
   "outputs": [
    {
     "name": "stdout",
     "output_type": "stream",
     "text": [
      "{\"prompt\":\"Location: Singapore\\nResponsibilities: Shape, shepherd, ship, and show technical programs designed to support the work of Cloud Customer Engineers and Solutions Architects.\\nMeasure and report on key metrics tied to those programs to identify any need to change course, cancel, or scale the programs from a regional to global platform.\\nCommunicate status and identify any obstacles and paths for resolution to stakeholders, including those in senior roles, in a transparent, regular, professional and timely manner.\\nEstablish expectations and rationale on deliverables for stakeholders and program contributors.\\nProvide program performance feedback to teams in Product, Engineering, Sales, and Marketing (among others) to enable efficient cross-team operations.\\n Qualifications: BA\\/BS degree or equivalent practical experience.\\n3 years of experience in program and\\/or project management in cloud computing, enterprise software and\\/or marketing technologies.\\n\\n###\\n\\n\",\"completion\":\" Google Cloud Program Manager\\nProgram Management END\"}\n",
      "\n",
      "{\"prompt\":\"Location: Shanghai, China\\nResponsibilities: Drive cross-functional activities in the supply chain for overall Technical Operational readiness in all NPI phases leading into mass production.\\nCollaborate with suppliers and Engineering teams in assessing process technologies based on project requirements, and propose and develop the manufacturing blueprint including process flow, equipment\\/fixture designs, implementation schedules and validation plans for engineering builds and mass production.\\nDrive project technical and operational issues with material, process, fixtures, equipment, etc. during the NPI phase to enable delivery of a mature product and manufacturing process into mass production. Support\\/drive continuous improvement efforts in the supply chain.\\nLead suppliers by providing technical direction to establish and validate (utilizing statistical tools) process capability during the NPI phase for consistently delivering a quality product in mass production.\\nUtilize DOE’s, FMEA and other Industry standard tools to proactively identify and address risks and optimize process parameters.\\n Qualifications: BS degree in an Engineering discipline or equivalent practical experience.\\n7 years of experience in Cable\\/Connector Design or Manufacturing in an NPI role.\\nExperience working with Interconnect Engineering and Product Design (PD)\\/Mechanical Engineer in developing, manufacturing and testing.\\nAbility to speak and write in English and Mandarin fluently and idiomatically.\\n\\n###\\n\\n\",\"completion\":\" Supplier Development Engineer (SDE), Cable\\/Connector\\nManufacturing & Supply Chain END\"}\n",
      "\n",
      "{\"prompt\":\"Location: New York, NY, United States\\nResponsibilities: Collect and analyze data to draw insight and identify strategic solutions.\\nBuild consensus by facilitating broad collaboration with clear communication and documentation.\\nWork with cross-functional stakeholders to gather requirements, manage implementation, and drive delivery of projects.\\n Qualifications: Bachelor’s degree in Business, Economics, Statistics, Operations Research or related analytical field, or equivalent practical experience.\\n2 years of work experience in business analysis.\\n1 year of experience with statistical modeling, forecasting or machine learning. Experience with R, SAS or Python.\\n1 year of experience developing and manipulating large datasets.\\n\\n###\\n\\n\",\"completion\":\" Data Analyst, Product and Tools Operations, Google Technical Services\\nTechnical Solutions END\"}\n",
      "\n",
      "{\"prompt\":\"Location: Mountain View, CA, United States\\nResponsibilities: Work one-on-one with the top Android, iOS, and web engineers to build exciting new product\\/API integrations that drive adoption of Google’s developer platforms.\\nConceive new features and ideas that can change how users interact with apps and Google, and help developers build them.\\nConduct regular, engineering-focused meetings with developers to help them design new systems, fix bugs, improve UX, and solve complex code issues.\\nWork on the source code of Google's products with other engineers to identify, reproduce, and\\/or fix bugs that are affecting developers.\\n Qualifications: BA\\/BS degree in Computer Science or equivalent practical experience.\\nExperience working directly with partners.\\nProgramming experience in one or more of the following languages\\/platforms: Android, Java, Kotlin, iOS, Javascript.\\n\\n###\\n\\n\",\"completion\":\" Developer Advocate, Partner Engineering\\nDeveloper Relations END\"}\n",
      "\n",
      "{\"prompt\":\"Location: Sunnyvale, CA, United States\\nResponsibilities: Plan requirements with internal customers.\\nProvide portfolio reports and forecasts to Regional Service Delivery Manager. Manage vendor PM services to usher projects through the entire lifecycle.\\nPlan finances and tracking across a portfolio of projects.\\nEnsure that any changes in scope, schedule or cost are managed in accordance with the agreed change order procedures. Interface with cross functional stakeholders to understand and communicate program strategy and priorities.\\nEnsure project closure processes are completed - including handover to support. Help to validate new and improve existing products by partnering with AV Eng teams. Set operational goals and lead ongoing process and program improvement initiatives.\\n Qualifications: BA\\/BS degree or equivalent practical experience.\\n4 years of experience managing large scale Global AV Deployments.\\nExperience managing vendors to deliver defined projects.\\nExperience in Audio\\/Visual and Video Conferencing design, system integration and resolution.\\n\\n###\\n\\n\",\"completion\":\" Program Manager, Audio Visual (AV) Deployments\\nProgram Management END\"}\n",
      "\n"
     ]
    }
   ],
   "source": [
    "with open('output_prepared.jsonl', 'r') as f:\n",
    "    for i in range(5):\n",
    "        line = f.readline()\n",
    "        print(line)"
   ]
  },
  {
   "cell_type": "code",
   "execution_count": null,
   "id": "99cb6973",
   "metadata": {},
   "outputs": [],
   "source": []
  }
 ],
 "metadata": {
  "kernelspec": {
   "display_name": "Python 3 (ipykernel)",
   "language": "python",
   "name": "python3"
  },
  "language_info": {
   "codemirror_mode": {
    "name": "ipython",
    "version": 3
   },
   "file_extension": ".py",
   "mimetype": "text/x-python",
   "name": "python",
   "nbconvert_exporter": "python",
   "pygments_lexer": "ipython3",
   "version": "3.11.6"
  }
 },
 "nbformat": 4,
 "nbformat_minor": 5
}
