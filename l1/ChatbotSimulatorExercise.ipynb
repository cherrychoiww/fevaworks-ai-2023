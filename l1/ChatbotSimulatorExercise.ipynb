{
 "cells": [
  {
   "cell_type": "code",
   "execution_count": null,
   "id": "e7827905",
   "metadata": {},
   "outputs": [],
   "source": [
    "API_KEY=\"\"\n",
    "API_URL=\"\""
   ]
  },
  {
   "cell_type": "code",
   "execution_count": null,
   "id": "e5924658",
   "metadata": {},
   "outputs": [],
   "source": [
    "prompt = \"The following conversation with an Office365 AI assistant O365AI.\\nO365AI is only able to answer Office365 related questions.\\n\\nMe: \""
   ]
  },
  {
   "cell_type": "code",
   "execution_count": null,
   "id": "118501b3",
   "metadata": {},
   "outputs": [],
   "source": [
    "import requests\n",
    "import json\n",
    "\n",
    "def requestOpenAI(prompt):\n",
    "    # Complete the function"
   ]
  },
  {
   "cell_type": "code",
   "execution_count": null,
   "id": "164f708d",
   "metadata": {},
   "outputs": [],
   "source": [
    "# Example of taking input in jupyter\n",
    "exampleInput = input()"
   ]
  },
  {
   "cell_type": "code",
   "execution_count": null,
   "id": "a2cf2dc4",
   "metadata": {},
   "outputs": [],
   "source": [
    "print(exampleInput)"
   ]
  }
 ],
 "metadata": {
  "kernelspec": {
   "display_name": "Python 3 (ipykernel)",
   "language": "python",
   "name": "python3"
  },
  "language_info": {
   "codemirror_mode": {
    "name": "ipython",
    "version": 3
   },
   "file_extension": ".py",
   "mimetype": "text/x-python",
   "name": "python",
   "nbconvert_exporter": "python",
   "pygments_lexer": "ipython3",
   "version": "3.9.13"
  }
 },
 "nbformat": 4,
 "nbformat_minor": 5
}
