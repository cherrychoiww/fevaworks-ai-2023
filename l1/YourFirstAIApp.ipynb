{
 "cells": [
  {
   "cell_type": "markdown",
   "id": "38dae09e",
   "metadata": {},
   "source": [
    "# Create Your First AI App"
   ]
  },
  {
   "cell_type": "markdown",
   "id": "5f858752",
   "metadata": {},
   "source": [
    "## Streamlit Introduction\n",
    " \n",
    "Streamlit is an open-source Python library that makes it easy to create custom web apps for machine learning and data science. With Streamlit, you can quickly build and deploy interactive web applications without any knowledge of web development."
   ]
  },
  {
   "cell_type": "markdown",
   "id": "7eb7c0f5",
   "metadata": {},
   "source": [
    "## Installation\n",
    " \n",
    "To install Streamlit, run the following command in your terminal or command prompt:"
   ]
  },
  {
   "cell_type": "code",
   "execution_count": 8,
   "id": "e9148be7",
   "metadata": {},
   "outputs": [
    {
     "name": "stdout",
     "output_type": "stream",
     "text": [
      "Requirement already satisfied: streamlit in /Users/warren/opt/anaconda3/lib/python3.9/site-packages (1.23.1)\n",
      "Requirement already satisfied: cachetools<6,>=4.0 in /Users/warren/opt/anaconda3/lib/python3.9/site-packages (from streamlit) (5.3.1)\n",
      "Requirement already satisfied: python-dateutil<3,>=2 in /Users/warren/opt/anaconda3/lib/python3.9/site-packages (from streamlit) (2.8.2)\n",
      "Requirement already satisfied: pandas<3,>=0.25 in /Users/warren/opt/anaconda3/lib/python3.9/site-packages (from streamlit) (1.4.4)\n",
      "Requirement already satisfied: toml<2 in /Users/warren/opt/anaconda3/lib/python3.9/site-packages (from streamlit) (0.10.2)\n",
      "Requirement already satisfied: importlib-metadata<7,>=1.4 in /Users/warren/opt/anaconda3/lib/python3.9/site-packages (from streamlit) (4.11.3)\n",
      "Requirement already satisfied: blinker<2,>=1.0.0 in /Users/warren/opt/anaconda3/lib/python3.9/site-packages (from streamlit) (1.6.2)\n",
      "Requirement already satisfied: tenacity<9,>=8.0.0 in /Users/warren/opt/anaconda3/lib/python3.9/site-packages (from streamlit) (8.2.2)\n",
      "Requirement already satisfied: typing-extensions<5,>=4.0.1 in /Users/warren/opt/anaconda3/lib/python3.9/site-packages (from streamlit) (4.5.0)\n",
      "Requirement already satisfied: numpy<2,>=1 in /Users/warren/opt/anaconda3/lib/python3.9/site-packages (from streamlit) (1.23.5)\n",
      "Requirement already satisfied: rich<14,>=10.11.0 in /Users/warren/opt/anaconda3/lib/python3.9/site-packages (from streamlit) (13.0.1)\n",
      "Requirement already satisfied: packaging<24,>=14.1 in /Users/warren/opt/anaconda3/lib/python3.9/site-packages (from streamlit) (21.3)\n",
      "Requirement already satisfied: protobuf<5,>=3.20 in /Users/warren/opt/anaconda3/lib/python3.9/site-packages (from streamlit) (4.23.3)\n",
      "Requirement already satisfied: requests<3,>=2.4 in /Users/warren/opt/anaconda3/lib/python3.9/site-packages (from streamlit) (2.30.0)\n",
      "Requirement already satisfied: validators<1,>=0.2 in /Users/warren/opt/anaconda3/lib/python3.9/site-packages (from streamlit) (0.20.0)\n",
      "Requirement already satisfied: pyarrow>=4.0 in /Users/warren/opt/anaconda3/lib/python3.9/site-packages (from streamlit) (12.0.1)\n",
      "Requirement already satisfied: click<9,>=7.0 in /Users/warren/opt/anaconda3/lib/python3.9/site-packages (from streamlit) (8.1.3)\n",
      "Requirement already satisfied: altair<6,>=4.0 in /Users/warren/opt/anaconda3/lib/python3.9/site-packages (from streamlit) (5.0.1)\n",
      "Requirement already satisfied: pillow<10,>=6.2.0 in /Users/warren/opt/anaconda3/lib/python3.9/site-packages (from streamlit) (9.2.0)\n",
      "Requirement already satisfied: pympler<2,>=0.9 in /Users/warren/opt/anaconda3/lib/python3.9/site-packages (from streamlit) (1.0.1)\n",
      "Requirement already satisfied: gitpython!=3.1.19,<4,>=3 in /Users/warren/opt/anaconda3/lib/python3.9/site-packages (from streamlit) (3.1.31)\n",
      "Requirement already satisfied: tornado<7,>=6.0.3 in /Users/warren/opt/anaconda3/lib/python3.9/site-packages (from streamlit) (6.1)\n",
      "Requirement already satisfied: pydeck<1,>=0.1.dev5 in /Users/warren/opt/anaconda3/lib/python3.9/site-packages (from streamlit) (0.8.1b0)\n",
      "Requirement already satisfied: tzlocal<5,>=1.1 in /Users/warren/opt/anaconda3/lib/python3.9/site-packages (from streamlit) (4.3.1)\n",
      "Requirement already satisfied: jinja2 in /Users/warren/opt/anaconda3/lib/python3.9/site-packages (from altair<6,>=4.0->streamlit) (2.11.3)\n",
      "Requirement already satisfied: toolz in /Users/warren/opt/anaconda3/lib/python3.9/site-packages (from altair<6,>=4.0->streamlit) (0.11.2)\n",
      "Requirement already satisfied: jsonschema>=3.0 in /Users/warren/opt/anaconda3/lib/python3.9/site-packages (from altair<6,>=4.0->streamlit) (4.16.0)\n",
      "Requirement already satisfied: gitdb<5,>=4.0.1 in /Users/warren/opt/anaconda3/lib/python3.9/site-packages (from gitpython!=3.1.19,<4,>=3->streamlit) (4.0.10)\n",
      "Requirement already satisfied: zipp>=0.5 in /Users/warren/opt/anaconda3/lib/python3.9/site-packages (from importlib-metadata<7,>=1.4->streamlit) (3.8.0)\n",
      "Requirement already satisfied: pyparsing!=3.0.5,>=2.0.2 in /Users/warren/opt/anaconda3/lib/python3.9/site-packages (from packaging<24,>=14.1->streamlit) (3.0.9)\n",
      "Requirement already satisfied: pytz>=2020.1 in /Users/warren/opt/anaconda3/lib/python3.9/site-packages (from pandas<3,>=0.25->streamlit) (2022.1)\n",
      "Requirement already satisfied: six>=1.5 in /Users/warren/opt/anaconda3/lib/python3.9/site-packages (from python-dateutil<3,>=2->streamlit) (1.16.0)\n",
      "Requirement already satisfied: charset-normalizer<4,>=2 in /Users/warren/opt/anaconda3/lib/python3.9/site-packages (from requests<3,>=2.4->streamlit) (2.0.4)\n",
      "Requirement already satisfied: certifi>=2017.4.17 in /Users/warren/opt/anaconda3/lib/python3.9/site-packages (from requests<3,>=2.4->streamlit) (2022.12.7)\n",
      "Requirement already satisfied: urllib3<3,>=1.21.1 in /Users/warren/opt/anaconda3/lib/python3.9/site-packages (from requests<3,>=2.4->streamlit) (1.26.11)\n",
      "Requirement already satisfied: idna<4,>=2.5 in /Users/warren/opt/anaconda3/lib/python3.9/site-packages (from requests<3,>=2.4->streamlit) (3.3)\n",
      "Requirement already satisfied: pygments<3.0.0,>=2.6.0 in /Users/warren/opt/anaconda3/lib/python3.9/site-packages (from rich<14,>=10.11.0->streamlit) (2.11.2)\n",
      "Requirement already satisfied: commonmark<0.10.0,>=0.9.0 in /Users/warren/opt/anaconda3/lib/python3.9/site-packages (from rich<14,>=10.11.0->streamlit) (0.9.1)\n",
      "Requirement already satisfied: pytz-deprecation-shim in /Users/warren/opt/anaconda3/lib/python3.9/site-packages (from tzlocal<5,>=1.1->streamlit) (0.1.0.post0)\n",
      "Requirement already satisfied: decorator>=3.4.0 in /Users/warren/opt/anaconda3/lib/python3.9/site-packages (from validators<1,>=0.2->streamlit) (5.1.1)\n",
      "Requirement already satisfied: smmap<6,>=3.0.1 in /Users/warren/opt/anaconda3/lib/python3.9/site-packages (from gitdb<5,>=4.0.1->gitpython!=3.1.19,<4,>=3->streamlit) (5.0.0)\n",
      "Requirement already satisfied: MarkupSafe>=0.23 in /Users/warren/opt/anaconda3/lib/python3.9/site-packages (from jinja2->altair<6,>=4.0->streamlit) (2.0.1)\n",
      "Requirement already satisfied: pyrsistent!=0.17.0,!=0.17.1,!=0.17.2,>=0.14.0 in /Users/warren/opt/anaconda3/lib/python3.9/site-packages (from jsonschema>=3.0->altair<6,>=4.0->streamlit) (0.18.0)\n",
      "Requirement already satisfied: attrs>=17.4.0 in /Users/warren/opt/anaconda3/lib/python3.9/site-packages (from jsonschema>=3.0->altair<6,>=4.0->streamlit) (21.4.0)\n",
      "Requirement already satisfied: tzdata in /Users/warren/opt/anaconda3/lib/python3.9/site-packages (from pytz-deprecation-shim->tzlocal<5,>=1.1->streamlit) (2023.3)\n"
     ]
    }
   ],
   "source": [
    "!pip install streamlit  "
   ]
  },
  {
   "cell_type": "markdown",
   "id": "14770b95",
   "metadata": {},
   "source": [
    "## Create a Streamlit App\n",
    " \n",
    "To create a simple Streamlit app, follow these steps:\n",
    "Create a new Python file (e.g., app.py).\n",
    "Import Streamlit using import streamlit as st.\n",
    "Use Streamlit's functions to add elements (widgets, text, plots, etc.) to your app.\n",
    "Run the Streamlit app using the command streamlit run app.py in your terminal or command prompt."
   ]
  },
  {
   "cell_type": "markdown",
   "id": "00be0bda",
   "metadata": {},
   "source": [
    "## Example: Simple Streamlit App\n",
    "Create your first App using Azure OpenAI"
   ]
  },
  {
   "cell_type": "code",
   "execution_count": 9,
   "id": "2113ef09",
   "metadata": {},
   "outputs": [],
   "source": [
    "API_KEY=''\n",
    "API_URL='https://fevaworksopenai.openai.azure.com/openai/deployments/text-davinci-003/completions?api-version=2022-12-01'"
   ]
  },
  {
   "cell_type": "code",
   "execution_count": 10,
   "id": "728104cd",
   "metadata": {},
   "outputs": [],
   "source": [
    "exampleInput = 'create a simple streamlit app\\n'"
   ]
  },
  {
   "cell_type": "code",
   "execution_count": 11,
   "id": "854fc40b",
   "metadata": {},
   "outputs": [
    {
     "name": "stdout",
     "output_type": "stream",
     "text": [
      "\n",
      "import streamlit as st\n",
      "\n",
      "st.title(\"My Streamlit App\")\n",
      "\n",
      "st.write(\"This is my first Streamlit app!\")\n",
      "\n",
      "name = st.text_input(\"What is your name?\")\n",
      "\n",
      "if st.button(\"Say Hello\"):\n",
      "    st.write(f\"Hello {name}!\")\n"
     ]
    }
   ],
   "source": [
    "import requests\n",
    "import json\n",
    "\n",
    "# Set the API endpoint URL\n",
    "url = API_URL\n",
    "\n",
    "# Set the headers\n",
    "headers = {\n",
    "    \"Content-Type\": \"application/json\",\n",
    "    \"api-key\": API_KEY\n",
    "}\n",
    "\n",
    "# Set the payload\n",
    "payload = {\n",
    "    \"prompt\": exampleInput,\n",
    "    \"max_tokens\": 500,\n",
    "    \"temperature\": 0,\n",
    "    \"frequency_penalty\": 0,\n",
    "    \"presence_penalty\": 0,\n",
    "    \"top_p\": 1,\n",
    "    \"best_of\": 1,\n",
    "    \"stop\": None\n",
    "}\n",
    "\n",
    "# Make the API call\n",
    "response = requests.post(url, headers=headers, data=json.dumps(payload))\n",
    "\n",
    "# Print the completed text\n",
    "print(response.json()[\"choices\"][0][\"text\"])\n"
   ]
  },
  {
   "cell_type": "code",
   "execution_count": 12,
   "id": "e913833a",
   "metadata": {},
   "outputs": [
    {
     "name": "stdout",
     "output_type": "stream",
     "text": [
      "\u001b[0m\n",
      "\u001b[34m\u001b[1m  You can now view your Streamlit app in your browser.\u001b[0m\n",
      "\u001b[0m\n",
      "\u001b[34m  Local URL: \u001b[0m\u001b[1mhttp://localhost:8501\u001b[0m\n",
      "\u001b[34m  Network URL: \u001b[0m\u001b[1mhttp://10.111.2.154:8501\u001b[0m\n",
      "\u001b[0m\n",
      "^C\n",
      "\u001b[34m  Stopping...\u001b[0m\n"
     ]
    }
   ],
   "source": [
    "!streamlit run first_app.py"
   ]
  },
  {
   "cell_type": "markdown",
   "id": "3a5e90f8",
   "metadata": {},
   "source": [
    "## Exercise: Create a simple AI chat app\n",
    "Create your first AI Chat App using Azure OpenAI"
   ]
  },
  {
   "cell_type": "code",
   "execution_count": null,
   "id": "e99bda96",
   "metadata": {},
   "outputs": [],
   "source": []
  }
 ],
 "metadata": {
  "kernelspec": {
   "display_name": "Python 3 (ipykernel)",
   "language": "python",
   "name": "python3"
  },
  "language_info": {
   "codemirror_mode": {
    "name": "ipython",
    "version": 3
   },
   "file_extension": ".py",
   "mimetype": "text/x-python",
   "name": "python",
   "nbconvert_exporter": "python",
   "pygments_lexer": "ipython3",
   "version": "3.9.13"
  }
 },
 "nbformat": 4,
 "nbformat_minor": 5
}
