{
 "cells": [
  {
   "cell_type": "markdown",
   "id": "b3f80e55",
   "metadata": {},
   "source": [
    "# Azure OpenAI & REST API Introduction"
   ]
  },
  {
   "cell_type": "markdown",
   "id": "e77fec8d",
   "metadata": {},
   "source": [
    "## Introduction to JSON\n",
    "- JSON stands for JavaScript Object Notation.\n",
    "- It's a lightweight data interchange format that is easy to read and write for humans and easy to parse and generate for machines.\n",
    "- JSON is used to exchange data between the client and the server in RESTful web services."
   ]
  },
  {
   "cell_type": "markdown",
   "id": "61c5e9a8",
   "metadata": {},
   "source": [
    "String: A string is a sequence of characters enclosed in double quotes. Here's an example:"
   ]
  },
  {
   "cell_type": "code",
   "execution_count": null,
   "id": "db2a9a40",
   "metadata": {},
   "outputs": [],
   "source": [
    "import json\n",
    "\n",
    "# Creating a JSON object with a string\n",
    "data = {\n",
    "    \"name\": \"John\",\n",
    "    \"city\": \"New York\"\n",
    "}\n",
    "\n",
    "# Encoding the JSON object to a string\n",
    "json_string = json.dumps(data)\n",
    "\n",
    "# Printing the JSON string\n",
    "print(json_string)"
   ]
  },
  {
   "cell_type": "markdown",
   "id": "07b2fdd0",
   "metadata": {},
   "source": [
    "Number: A number can be an integer or a floating-point number. Here's an example:"
   ]
  },
  {
   "cell_type": "code",
   "execution_count": null,
   "id": "cd29ab9d",
   "metadata": {},
   "outputs": [],
   "source": [
    "import json\n",
    "\n",
    "# Creating a JSON object with a number\n",
    "data = {\n",
    "    \"age\": 30,\n",
    "    \"height\": 1.75\n",
    "}\n",
    "\n",
    "# Encoding the JSON object to a string\n",
    "json_string = json.dumps(data)\n",
    "\n",
    "# Printing the JSON string\n",
    "print(json_string)"
   ]
  },
  {
   "cell_type": "markdown",
   "id": "7cf70fb5",
   "metadata": {},
   "source": [
    "Boolean: A boolean can be either true or false. Here's an example:"
   ]
  },
  {
   "cell_type": "code",
   "execution_count": null,
   "id": "5c70d342",
   "metadata": {},
   "outputs": [],
   "source": [
    "import json\n",
    "\n",
    "# Creating a JSON object with a boolean\n",
    "data = {\n",
    "    \"is_student\": True,\n",
    "    \"has_job\": False\n",
    "}\n",
    "\n",
    "# Encoding the JSON object to a string\n",
    "json_string = json.dumps(data)\n",
    "\n",
    "# Printing the JSON string\n",
    "print(json_string)"
   ]
  },
  {
   "cell_type": "markdown",
   "id": "50a9acc6",
   "metadata": {},
   "source": [
    "List: A list is an ordered collection of values enclosed in square brackets. Here's an example:"
   ]
  },
  {
   "cell_type": "code",
   "execution_count": null,
   "id": "3cff6352",
   "metadata": {},
   "outputs": [],
   "source": [
    "import json\n",
    "\n",
    "# Creating a JSON object with a list\n",
    "data = {\n",
    "    \"fruits\": [\"apple\", \"banana\", \"orange\"]\n",
    "}\n",
    "\n",
    "# Encoding the JSON object to a string\n",
    "json_string = json.dumps(data)\n",
    "\n",
    "# Printing the JSON string\n",
    "print(json_string)"
   ]
  },
  {
   "cell_type": "markdown",
   "id": "9d91b2a8",
   "metadata": {},
   "source": [
    "Object: An object is a collection of key-value pairs enclosed in curly braces. Here's an example:"
   ]
  },
  {
   "cell_type": "code",
   "execution_count": null,
   "id": "8443ebed",
   "metadata": {},
   "outputs": [],
   "source": [
    "import json\n",
    "\n",
    "# Creating a JSON object with an object\n",
    "data = {\n",
    "    \"person\": {\n",
    "        \"name\": \"John\",\n",
    "        \"age\": 30,\n",
    "        \"city\": \"New York\"\n",
    "    }\n",
    "}\n",
    "\n",
    "# Encoding the JSON object to a string\n",
    "json_string = json.dumps(data)\n",
    "\n",
    "# Printing the JSON string\n",
    "print(json_string)"
   ]
  },
  {
   "cell_type": "markdown",
   "id": "aedd50e9",
   "metadata": {},
   "source": [
    "An example of how to extract a value from a JSON object"
   ]
  },
  {
   "cell_type": "code",
   "execution_count": null,
   "id": "7be5a3bf",
   "metadata": {},
   "outputs": [],
   "source": [
    "import json\n",
    "\n",
    "# Creating a JSON object\n",
    "json_string = '{\"name\": \"John\", \"age\": 30, \"city\": \"New York\"}'\n",
    "json_object = json.loads(json_string)\n",
    "\n",
    "# Extracting a value from the JSON object\n",
    "name = json_object['name']\n",
    "age = json_object['age']\n",
    "city = json_object['city']\n",
    "\n",
    "# Printing the extracted values\n",
    "print(name)\n",
    "print(age)\n",
    "print(city)"
   ]
  },
  {
   "cell_type": "markdown",
   "id": "45aaa56a",
   "metadata": {},
   "source": [
    "## Introduction to REST API\n",
    "- REST stands for Representational State Transfer.\n",
    "- RESTful web services provide a way to communicate between the client and the server using HTTP.\n",
    "- RESTful web services use HTTP methods like GET, POST, PUT, DELETE, etc. to perform operations on the resources.\n",
    "- The resources in a RESTful web service are identified by URIs (Uniform Resource Identifiers)."
   ]
  },
  {
   "cell_type": "markdown",
   "id": "8c41bf33",
   "metadata": {},
   "source": [
    "### Example of GET method"
   ]
  },
  {
   "cell_type": "code",
   "execution_count": null,
   "id": "302af211",
   "metadata": {},
   "outputs": [],
   "source": [
    "!pip install requests"
   ]
  },
  {
   "cell_type": "code",
   "execution_count": null,
   "id": "172ed82a",
   "metadata": {},
   "outputs": [],
   "source": [
    "import requests\n",
    "\n",
    "# GET request to retrieve data\n",
    "response = requests.get('https://httpbin.org/get')\n",
    "\n",
    "# Print the response status code\n",
    "print(response.status_code)\n",
    "\n",
    "# Print the response content\n",
    "print(response.content)\n"
   ]
  },
  {
   "cell_type": "markdown",
   "id": "444ac629",
   "metadata": {},
   "source": [
    "### Example of POST method"
   ]
  },
  {
   "cell_type": "code",
   "execution_count": null,
   "id": "696b5069",
   "metadata": {},
   "outputs": [],
   "source": [
    "# POST request to submit data\n",
    "response = requests.post('https://httpbin.org/post', json={'key': 'value'})\n",
    "\n",
    "# Print the response status code\n",
    "print(response.status_code)\n",
    "\n",
    "# Print the response content\n",
    "print(response.content)"
   ]
  },
  {
   "cell_type": "markdown",
   "id": "3eedd55b",
   "metadata": {},
   "source": [
    "## Making an API call to Azure OpenAI API\n",
    "We will use the requests library to make an API call to the Azure OpenAI API.\n",
    "We will pass the API endpoint URL, headers, and payload in the request.\n",
    "The response will contain the completed text based on the provided prompt.\n",
    "Run the cell below to assign the variables."
   ]
  },
  {
   "cell_type": "code",
   "execution_count": null,
   "id": "22aeb0eb",
   "metadata": {},
   "outputs": [],
   "source": [
    "API_KEY='YOUR_OPENAI_API_KEY'"
   ]
  },
  {
   "cell_type": "code",
   "execution_count": null,
   "id": "d3617fb4",
   "metadata": {},
   "outputs": [],
   "source": [
    "import requests\n",
    "import json\n",
    "\n",
    "# Set the API endpoint URL\n",
    "url = \"https://mvpopenai.openai.azure.com/openai/deployments/test-text-davinci/completions?api-version=2022-12-01\"\n",
    "\n",
    "# Set the headers\n",
    "headers = {\n",
    "    \"Content-Type\": \"application/json\",\n",
    "    \"api-key\": API_KEY\n",
    "}\n",
    "\n",
    "# Set the payload\n",
    "payload = {\n",
    "    \"prompt\": \"A neutron star is the collapsed core of a massive supergiant star, which had a total mass of between 10 and 25 solar masses, possibly more if the star was especially metal-rich.[1] Neutron stars are the smallest and densest stellar objects, excluding black holes and hypothetical white holes, quark stars, and strange stars.[2] Neutron stars have a radius on the order of 10 kilometres (6.2 mi) and a mass of about 1.4 solar masses.[3] They result from the supernova explosion of a massive star, combined with gravitational collapse, that compresses the core past white dwarf star density to that of atomic nuclei.\\n\\nTl;dr\\n\",\n",
    "    \"max_tokens\": 60,\n",
    "    \"temperature\": 0.7,\n",
    "    \"frequency_penalty\": 0,\n",
    "    \"presence_penalty\": 0,\n",
    "    \"top_p\": 1,\n",
    "    \"best_of\": 1,\n",
    "    \"stop\": None\n",
    "}\n",
    "\n",
    "# Make the API call\n",
    "response = requests.post(url, headers=headers, data=json.dumps(payload))\n",
    "\n",
    "# Print the completed text\n",
    "print(response.json()[\"choices\"][0][\"text\"])\n"
   ]
  },
  {
   "cell_type": "code",
   "execution_count": null,
   "id": "3afe7810",
   "metadata": {},
   "outputs": [],
   "source": []
  }
 ],
 "metadata": {
  "kernelspec": {
   "display_name": "Python 3 (ipykernel)",
   "language": "python",
   "name": "python3"
  },
  "language_info": {
   "codemirror_mode": {
    "name": "ipython",
    "version": 3
   },
   "file_extension": ".py",
   "mimetype": "text/x-python",
   "name": "python",
   "nbconvert_exporter": "python",
   "pygments_lexer": "ipython3",
   "version": "3.9.13"
  }
 },
 "nbformat": 4,
 "nbformat_minor": 5
}
